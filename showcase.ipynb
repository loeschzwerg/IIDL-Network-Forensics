{
 "cells": [
  {
   "cell_type": "markdown",
   "metadata": {},
   "source": [
    "# snort\n",
    "Install [snort](https://www.snort.org) "
   ]
  },
  {
   "cell_type": "code",
   "execution_count": null,
   "metadata": {
    "vscode": {
     "languageId": "python"
    }
   },
   "outputs": [],
   "source": [
    "!snort -c snort.conf -r modbus_test_data_part1.pcap -q -K none -A console | tee snort.out"
   ]
  },
  {
   "cell_type": "markdown",
   "metadata": {},
   "source": [
    "# tcpdump"
   ]
  },
  {
   "cell_type": "code",
   "execution_count": 1,
   "metadata": {
    "vscode": {
     "languageId": "python"
    }
   },
   "outputs": [
    {
     "name": "stdout",
     "output_type": "stream",
     "text": [
      "1.wlp2s0 [Up, Running, Wireless]\n",
      "2.any (Pseudo-device that captures on all interfaces) [Up, Running]\n",
      "3.lo [Up, Running, Loopback]\n",
      "4.bluetooth0 (Bluetooth adapter number 0) [Wireless, Association status unknown]\n",
      "5.bluetooth-monitor (Bluetooth Linux Monitor) [Wireless]\n",
      "6.nflog (Linux netfilter log (NFLOG) interface) [none]\n",
      "7.nfqueue (Linux netfilter queue (NFQUEUE) interface) [none]\n",
      "8.dbus-system (D-Bus system bus) [none]\n",
      "9.dbus-session (D-Bus session bus) [none]\n"
     ]
    }
   ],
   "source": [
    "!tcpdump -D"
   ]
  },
  {
   "cell_type": "code",
   "execution_count": 2,
   "metadata": {
    "vscode": {
     "languageId": "python"
    }
   },
   "outputs": [
    {
     "name": "stdout",
     "output_type": "stream",
     "text": [
      "tcpdump: option requires an argument -- 'c'\n",
      "tcpdump version 4.99.0\n",
      "libpcap version 1.10.0 (with TPACKET_V3)\n",
      "OpenSSL 1.1.1l  24 Aug 2021\n",
      "Usage: tcpdump [-AbdDefhHIJKlLnNOpqStuUvxX#] [ -B size ] [ -c count ] [--count]\n",
      "\t\t[ -C file_size ] [ -E algo:secret ] [ -F file ] [ -G seconds ]\n",
      "\t\t[ -i interface ] [ --immediate-mode ] [ -j tstamptype ]\n",
      "\t\t[ -M secret ] [ --number ] [ --print ] [ -Q in|out|inout ]\n",
      "\t\t[ -r file ] [ -s snaplen ] [ -T type ] [ --version ]\n",
      "\t\t[ -V file ] [ -w file ] [ -W filecount ] [ -y datalinktype ]\n",
      "\t\t[ --time-stamp-precision precision ] [ --micro ] [ --nano ]\n",
      "\t\t[ -z postrotate-command ] [ -Z user ] [ expression ]\n"
     ]
    }
   ],
   "source": [
    "!tcpdump -i -n -v -c"
   ]
  },
  {
   "cell_type": "code",
   "execution_count": 3,
   "metadata": {
    "vscode": {
     "languageId": "python"
    }
   },
   "outputs": [
    {
     "name": "stdout",
     "output_type": "stream",
     "text": [
      "tcpdump: listening on wlp2s0, link-type EN10MB (Ethernet), snapshot length 262144 bytes\n",
      "^C\n",
      "110 packets captured\n",
      "145 packets received by filter\n",
      "0 packets dropped by kernel\n"
     ]
    }
   ],
   "source": [
    "### Write a pcap file from captured data\n",
    "!tcpdump -w example.pcap"
   ]
  },
  {
   "cell_type": "code",
   "execution_count": null,
   "metadata": {
    "vscode": {
     "languageId": "python"
    }
   },
   "outputs": [],
   "source": [
    "### Read a pcap file\n",
    "!tcpdump -r run8.pcap"
   ]
  },
  {
   "cell_type": "markdown",
   "metadata": {},
   "source": [
    "# PcapXray\n",
    "Download here: [Github/PcapXray](https:github.com/Srinivas11789/PcapXray)"
   ]
  },
  {
   "cell_type": "markdown",
   "metadata": {},
   "source": [
    "# tshark"
   ]
  },
  {
   "cell_type": "code",
   "execution_count": null,
   "metadata": {
    "vscode": {
     "languageId": "python"
    }
   },
   "outputs": [],
   "source": [
    "!tshark --autostop packets:20"
   ]
  },
  {
   "cell_type": "markdown",
   "metadata": {},
   "source": [
    "#### remote unixoid machines\n",
    "To capture traffic you may want to do so on a remote intermittent machine (router, switch, etc). If this is not dedicated monitoring hardware, like a managed switch or similar, you can `pcap` with tshark (fixed or continuous)\n",
    "```bash\n",
    "# manual / autocapture\n",
    "tshark -w /tmp/ten-seconds.pcap --autostop duration:10\n",
    "# write continuously, \n",
    "tshark -w /tmp/one-day.pcap --ring-buffer duration:86400\n",
    "ls -lah | grep one-day.pcap\n",
    "```"
   ]
  },
  {
   "cell_type": "code",
   "execution_count": null,
   "metadata": {
    "vscode": {
     "languageId": "python"
    }
   },
   "outputs": [],
   "source": [
    "!tshark -r run8.pcap -T json > run8.json"
   ]
  },
  {
   "cell_type": "code",
   "execution_count": 6,
   "metadata": {
    "vscode": {
     "languageId": "python"
    }
   },
   "outputs": [
    {
     "data": {
      "text/plain": [
       "{'ip.src': '192.168.1.100',\n",
       " 'ip.dst': '192.168.1.102',\n",
       " 'modbus': {'modbus.func_code': '3',\n",
       "  'modbus.reference_num': '8',\n",
       "  'modbus.word_cnt': '4'}}"
      ]
     },
     "execution_count": 6,
     "metadata": {},
     "output_type": "execute_result"
    }
   ],
   "source": [
    "import json\n",
    "global capture\n",
    "with open('run8.json') as cap:\n",
    "    capture = json.load(cap)\n",
    "\n",
    "modbus_packets = [\n",
    "    {'ip.src': packet['_source']['layers']['ip']['ip.src'],\n",
    "     'ip.dst': packet['_source']['layers']['ip']['ip.dst'],\n",
    "     'modbus':packet['_source']['layers']['modbus']}\n",
    "    for packet in capture\n",
    "    if 'modbus' in packet['_source']['layers']]\n",
    "\n",
    "modbus_packets[0]"
   ]
  },
  {
   "cell_type": "code",
   "execution_count": 7,
   "metadata": {
    "vscode": {
     "languageId": "python"
    }
   },
   "outputs": [
    {
     "data": {
      "text/plain": [
       "{'ip.dst:192.168.1.100': 2212,\n",
       " 'ip.dst:192.168.1.101': 1482,\n",
       " 'ip.dst:192.168.1.102': 1473,\n",
       " 'ip.dst:192.168.1.103': 1467,\n",
       " 'ip.dst:192.168.1.99': 2209,\n",
       " 'ip.src:192.168.1.100': 2213,\n",
       " 'ip.src:192.168.1.101': 1482,\n",
       " 'ip.src:192.168.1.102': 1472,\n",
       " 'ip.src:192.168.1.103': 1467,\n",
       " 'ip.src:192.168.1.99': 2209,\n",
       " 'modbus.func_code:1': 2900,\n",
       " 'modbus.func_code:2': 2902,\n",
       " 'modbus.func_code:3': 2909,\n",
       " 'modbus.func_code:5': 132}"
      ]
     },
     "execution_count": 7,
     "metadata": {},
     "output_type": "execute_result"
    }
   ],
   "source": [
    "frequencies = {}\n",
    "keystr = lambda k, p: \":\".join([k, p[k]])\n",
    "increment = lambda m, k: m[k] + 1 if k in m else 1\n",
    "for packet in modbus_packets:\n",
    "    frequencies[keystr('ip.src', packet)] = increment(frequencies, keystr('ip.src', packet))\n",
    "    frequencies[keystr('ip.dst', packet)] = increment(frequencies, keystr('ip.dst', packet))\n",
    "    frequencies[keystr('modbus.func_code', packet['modbus'])] = increment(frequencies, keystr('modbus.func_code', packet['modbus']))\n",
    "\n",
    "dict(sorted(frequencies.items()))"
   ]
  },
  {
   "cell_type": "markdown",
   "metadata": {},
   "source": [
    "# sharkd"
   ]
  },
  {
   "cell_type": "code",
   "execution_count": null,
   "metadata": {
    "vscode": {
     "languageId": "python"
    }
   },
   "outputs": [],
   "source": [
    "!echo '{\"req\": \"info\"}' | sharkd -"
   ]
  },
  {
   "cell_type": "markdown",
   "metadata": {},
   "source": [
    "# Scapy\n",
    "\n",
    "### Install"
   ]
  },
  {
   "cell_type": "code",
   "execution_count": null,
   "metadata": {
    "vscode": {
     "languageId": "python"
    }
   },
   "outputs": [],
   "source": [
    "!pip3 install scapy"
   ]
  },
  {
   "cell_type": "markdown",
   "metadata": {},
   "source": [
    "## Basics"
   ]
  },
  {
   "cell_type": "code",
   "execution_count": 8,
   "metadata": {
    "vscode": {
     "languageId": "python"
    }
   },
   "outputs": [
    {
     "name": "stdout",
     "output_type": "stream",
     "text": [
      "###[ IP ]### \n",
      "  version   = 4\n",
      "  ihl       = None\n",
      "  tos       = 0x0\n",
      "  len       = None\n",
      "  id        = 1\n",
      "  flags     = \n",
      "  frag      = 0\n",
      "  ttl       = 64\n",
      "  proto     = hopopt\n",
      "  chksum    = None\n",
      "  src       = 127.0.0.1\n",
      "  dst       = 127.0.0.1\n",
      "  \\options   \\\n",
      "\n"
     ]
    }
   ],
   "source": [
    "from scapy.all import IP\n",
    "\n",
    "# create a basic IP-Packet\n",
    "IP().show()"
   ]
  },
  {
   "cell_type": "markdown",
   "metadata": {},
   "source": [
    "### Monitoring\n",
    "#### a simple network scanner\n",
    "To monitor which devices are on your network, you may want to actively search for active IPs"
   ]
  },
  {
   "cell_type": "code",
   "execution_count": null,
   "metadata": {
    "vscode": {
     "languageId": "python"
    }
   },
   "outputs": [],
   "source": [
    "!ip address"
   ]
  },
  {
   "cell_type": "code",
   "execution_count": null,
   "metadata": {
    "vscode": {
     "languageId": "python"
    }
   },
   "outputs": [],
   "source": [
    "# Are you root?\n",
    "# Make sure you have elevated privileges for the next step\n",
    "!whoami"
   ]
  },
  {
   "cell_type": "code",
   "execution_count": null,
   "metadata": {
    "vscode": {
     "languageId": "python"
    }
   },
   "outputs": [],
   "source": [
    "# src: https://www.thepythoncode.com/article/building-networks-scanner-using-scapy\n",
    "from scapy.all import ARP, Ether, srp\n",
    "# set target IP range\n",
    "target = \"192.168.0.1/24\" # your local subnet\n",
    "# create ARP (Address Resolution protocol) packet\n",
    "arp = ARP(pdst=target)\n",
    "ether = Ether(dst=\"ff:ff:ff:ff:ff:ff\")\n",
    "packet = ether/arp\n",
    "\n",
    "# raw socket operations require elevated privileges\n",
    "result = srp(packet, timeout=10) # => Tuple (answered, unanswered)\n",
    "\n",
    "print(\"===== Query Answer =====\")\n",
    "print(result[0][0])\n",
    "\n",
    "print(\"===== Devices =====\")\n",
    "{received.psrc: received.hwsrc for sent, received in result[0]}"
   ]
  },
  {
   "cell_type": "markdown",
   "metadata": {},
   "source": [
    "#### a simple network sniffer"
   ]
  },
  {
   "cell_type": "code",
   "execution_count": null,
   "metadata": {
    "vscode": {
     "languageId": "python"
    }
   },
   "outputs": [],
   "source": [
    "# adapted from src: https://www.thepythoncode.com/article/dhcp-listener-using-scapy-in-python\n",
    "from scapy.all import sniff, Ether, DHCP\n",
    "\n",
    "global print_packet, target_mac, requested_ip, hostname, vendor_id\n",
    "\n",
    "def listen():\n",
    "    sniff(prn=print_packet, iface='wlp2s0')\n",
    "\n",
    "def print_packet(packet):\n",
    "    print(packet.summary())\n",
    "    #print(packet.show())\n",
    "\n",
    "listen()"
   ]
  },
  {
   "cell_type": "markdown",
   "metadata": {},
   "source": [
    "#### network \"sniffer\" - pcap style\n",
    "It is easy to import a pcap file. "
   ]
  },
  {
   "cell_type": "code",
   "execution_count": null,
   "metadata": {
    "vscode": {
     "languageId": "python"
    }
   },
   "outputs": [],
   "source": [
    "from scapy.all import rdpcap, PcapReader\n",
    "\n",
    "fake_command_pcap = rdpcap('send_a_fake_command_modbus_6RTU_with_operate.pcap')\n",
    "for packet in fake_command_pcap:\n",
    "    print(packet.summary())"
   ]
  },
  {
   "cell_type": "markdown",
   "metadata": {},
   "source": [
    "Using a contrib module can greatly benefit the output"
   ]
  },
  {
   "cell_type": "code",
   "execution_count": null,
   "metadata": {
    "vscode": {
     "languageId": "python"
    }
   },
   "outputs": [],
   "source": [
    "from scapy.contrib import modbus\n",
    "fake_command_pcap_with_modbus = rdpcap('send_a_fake_command_modbus_6RTU_with_operate.pcap')\n",
    "for packet in fake_command_pcap_with_modbus:\n",
    "    print(packet.summary())"
   ]
  }
 ],
 "metadata": {
  "interpreter": {
   "hash": "31f2aee4e71d21fbe5cf8b01ff0e069b9275f58929596ceb00d14d90e3e16cd6"
  },
  "kernelspec": {
   "display_name": "Python 3",
   "language": "python",
   "name": "python3"
  },
  "language_info": {
   "codemirror_mode": {
    "name": "ipython",
    "version": 3
   },
   "file_extension": ".py",
   "mimetype": "text/x-python",
   "name": "python",
   "nbconvert_exporter": "python",
   "pygments_lexer": "ipython3",
   "version": "3.6.9"
  }
 },
 "nbformat": 4,
 "nbformat_minor": 2
}
