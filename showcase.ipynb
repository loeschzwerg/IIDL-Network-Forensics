{
 "cells": [
  {
   "cell_type": "markdown",
   "metadata": {},
   "source": [
    "# tshark"
   ]
  },
  {
   "cell_type": "code",
   "execution_count": null,
   "metadata": {},
   "outputs": [],
   "source": [
    "!tshark --autostop packets:20"
   ]
  },
  {
   "cell_type": "markdown",
   "metadata": {},
   "source": [
    "#### remote unixoid machines\n",
    "To capture traffic you may want to do so on a remote intermittent machine (router, switch, etc). If this is not dedicated monitoring hardware, like a managed switch or similar, you can `pcap` with tshark (fixed or continuous)\n",
    "```bash\n",
    "# manual / autocapture\n",
    "tshark -w /tmp/ten-seconds.pcap --autostop duration:10\n",
    "# write continuously, \n",
    "tshark -w /tmp/one-day.pcap --ring-buffer duration:86400\n",
    "ls -lah | grep one-day.pcap\n",
    "```"
   ]
  },
  {
   "cell_type": "code",
   "execution_count": null,
   "metadata": {},
   "outputs": [],
   "source": [
    "!tshark -r run8.pcap -T json > run8.json"
   ]
  },
  {
   "cell_type": "code",
   "execution_count": 6,
   "metadata": {},
   "outputs": [
    {
     "data": {
      "text/plain": [
       "{'ip.src': '192.168.1.100',\n",
       " 'ip.dst': '192.168.1.102',\n",
       " 'modbus': {'modbus.func_code': '3',\n",
       "  'modbus.reference_num': '8',\n",
       "  'modbus.word_cnt': '4'}}"
      ]
     },
     "execution_count": 6,
     "metadata": {},
     "output_type": "execute_result"
    }
   ],
   "source": [
    "import json\n",
    "global capture\n",
    "with open('run8.json') as cap:\n",
    "    capture = json.load(cap)\n",
    "\n",
    "modbus_packets = [\n",
    "    {'ip.src': packet['_source']['layers']['ip']['ip.src'],\n",
    "     'ip.dst': packet['_source']['layers']['ip']['ip.dst'],\n",
    "     'modbus':packet['_source']['layers']['modbus']}\n",
    "    for packet in capture\n",
    "    if 'modbus' in packet['_source']['layers']]\n",
    "\n",
    "modbus_packets[0]"
   ]
  },
  {
   "cell_type": "code",
   "execution_count": 7,
   "metadata": {},
   "outputs": [
    {
     "data": {
      "text/plain": [
       "{'ip.dst:192.168.1.100': 2212,\n",
       " 'ip.dst:192.168.1.101': 1482,\n",
       " 'ip.dst:192.168.1.102': 1473,\n",
       " 'ip.dst:192.168.1.103': 1467,\n",
       " 'ip.dst:192.168.1.99': 2209,\n",
       " 'ip.src:192.168.1.100': 2213,\n",
       " 'ip.src:192.168.1.101': 1482,\n",
       " 'ip.src:192.168.1.102': 1472,\n",
       " 'ip.src:192.168.1.103': 1467,\n",
       " 'ip.src:192.168.1.99': 2209,\n",
       " 'modbus.func_code:1': 2900,\n",
       " 'modbus.func_code:2': 2902,\n",
       " 'modbus.func_code:3': 2909,\n",
       " 'modbus.func_code:5': 132}"
      ]
     },
     "execution_count": 7,
     "metadata": {},
     "output_type": "execute_result"
    }
   ],
   "source": [
    "frequencies = {}\n",
    "keystr = lambda k, p: \":\".join([k, p[k]])\n",
    "increment = lambda m, k: m[k] + 1 if k in m else 1\n",
    "for packet in modbus_packets:\n",
    "    frequencies[keystr('ip.src', packet)] = increment(frequencies, keystr('ip.src', packet))\n",
    "    frequencies[keystr('ip.dst', packet)] = increment(frequencies, keystr('ip.dst', packet))\n",
    "    frequencies[keystr('modbus.func_code', packet['modbus'])] = increment(frequencies, keystr('modbus.func_code', packet['modbus']))\n",
    "\n",
    "dict(sorted(frequencies.items()))"
   ]
  },
  {
   "cell_type": "markdown",
   "metadata": {},
   "source": [
    "# sharkd"
   ]
  },
  {
   "cell_type": "code",
   "execution_count": null,
   "metadata": {},
   "outputs": [],
   "source": [
    "!echo '{\"req\": \"info\"}' | sharkd -"
   ]
  },
  {
   "cell_type": "markdown",
   "metadata": {},
   "source": [
    "# Scapy\n",
    "\n",
    "### Install"
   ]
  },
  {
   "cell_type": "code",
   "execution_count": null,
   "metadata": {},
   "outputs": [],
   "source": [
    "!pip3 install scapy"
   ]
  },
  {
   "cell_type": "markdown",
   "metadata": {},
   "source": [
    "## Basics"
   ]
  },
  {
   "cell_type": "code",
   "execution_count": 8,
   "metadata": {},
   "outputs": [
    {
     "name": "stdout",
     "output_type": "stream",
     "text": [
      "###[ IP ]### \n",
      "  version   = 4\n",
      "  ihl       = None\n",
      "  tos       = 0x0\n",
      "  len       = None\n",
      "  id        = 1\n",
      "  flags     = \n",
      "  frag      = 0\n",
      "  ttl       = 64\n",
      "  proto     = hopopt\n",
      "  chksum    = None\n",
      "  src       = 127.0.0.1\n",
      "  dst       = 127.0.0.1\n",
      "  \\options   \\\n",
      "\n"
     ]
    }
   ],
   "source": [
    "from scapy.all import IP\n",
    "\n",
    "# create a basic IP-Packet\n",
    "IP().show()"
   ]
  },
  {
   "cell_type": "markdown",
   "metadata": {},
   "source": [
    "### Monitoring\n",
    "#### a simple network scanner\n",
    "To monitor which devices are on your network, you may want to actively search for active IPs"
   ]
  },
  {
   "cell_type": "code",
   "execution_count": null,
   "metadata": {},
   "outputs": [],
   "source": [
    "!ip address"
   ]
  },
  {
   "cell_type": "code",
   "execution_count": null,
   "metadata": {},
   "outputs": [],
   "source": [
    "# Are you root?\n",
    "# Make sure you have elevated privileges for the next step\n",
    "!whoami"
   ]
  },
  {
   "cell_type": "code",
   "execution_count": null,
   "metadata": {},
   "outputs": [],
   "source": [
    "# src: https://www.thepythoncode.com/article/building-networks-scanner-using-scapy\n",
    "from scapy.all import ARP, Ether, srp\n",
    "# set target IP range\n",
    "target = \"192.168.0.1/24\" # your local subnet\n",
    "# create ARP (Address Resolution protocol) packet\n",
    "arp = ARP(pdst=target)\n",
    "ether = Ether(dst=\"ff:ff:ff:ff:ff:ff\")\n",
    "packet = ether/arp\n",
    "\n",
    "# raw socket operations require elevated privileges\n",
    "result = srp(packet, timeout=10) # => Tuple (answered, unanswered)\n",
    "\n",
    "print(\"===== Query Answer =====\")\n",
    "print(result[0][0])\n",
    "\n",
    "print(\"===== Devices =====\")\n",
    "{received.psrc: received.hwsrc for sent, received in result[0]}"
   ]
  },
  {
   "cell_type": "markdown",
   "metadata": {},
   "source": [
    "#### a simple network sniffer"
   ]
  },
  {
   "cell_type": "code",
   "execution_count": null,
   "metadata": {},
   "outputs": [],
   "source": [
    "# adapted from src: https://www.thepythoncode.com/article/dhcp-listener-using-scapy-in-python\n",
    "from scapy.all import sniff, Ether, DHCP\n",
    "\n",
    "global print_packet, target_mac, requested_ip, hostname, vendor_id\n",
    "\n",
    "def listen():\n",
    "    sniff(prn=print_packet, iface='wlp2s0')\n",
    "\n",
    "def print_packet(packet):\n",
    "    print(packet.summary())\n",
    "    #print(packet.show())\n",
    "\n",
    "listen()"
   ]
  },
  {
   "cell_type": "markdown",
   "metadata": {},
   "source": [
    "#### network \"sniffer\" - pcap style\n",
    "It is easy to import a pcap file. "
   ]
  },
  {
   "cell_type": "code",
   "execution_count": null,
   "metadata": {},
   "outputs": [],
   "source": [
    "from scapy.all import rdpcap, PcapReader\n",
    "\n",
    "fake_command_pcap = rdpcap('send_a_fake_command_modbus_6RTU_with_operate.pcap')\n",
    "for packet in fake_command_pcap:\n",
    "    print(packet.summary())"
   ]
  },
  {
   "cell_type": "markdown",
   "metadata": {},
   "source": [
    "Using a contrib module can greatly benefit the output"
   ]
  },
  {
   "cell_type": "code",
   "execution_count": null,
   "metadata": {},
   "outputs": [],
   "source": [
    "from scapy.contrib import modbus\n",
    "fake_command_pcap_with_modbus = rdpcap('send_a_fake_command_modbus_6RTU_with_operate.pcap')\n",
    "for packet in fake_command_pcap_with_modbus:\n",
    "    print(packet.summary())"
   ]
  }
 ],
 "metadata": {
  "interpreter": {
   "hash": "31f2aee4e71d21fbe5cf8b01ff0e069b9275f58929596ceb00d14d90e3e16cd6"
  },
  "kernelspec": {
   "display_name": "Python 3 (ipykernel)",
   "language": "python",
   "name": "python3"
  },
  "language_info": {
   "codemirror_mode": {
    "name": "ipython",
    "version": 3
   },
   "file_extension": ".py",
   "mimetype": "text/x-python",
   "name": "python",
   "nbconvert_exporter": "python",
   "pygments_lexer": "ipython3",
   "version": "3.9.7"
  },
  "orig_nbformat": 4
 },
 "nbformat": 4,
 "nbformat_minor": 2
}
