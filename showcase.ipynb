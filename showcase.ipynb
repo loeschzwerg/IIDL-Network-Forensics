{
 "cells": [
  {
   "cell_type": "markdown",
   "metadata": {},
   "source": [
    "# tshark"
   ]
  },
  {
   "cell_type": "code",
   "execution_count": 11,
   "metadata": {},
   "outputs": [
    {
     "name": "stdout",
     "output_type": "stream",
     "text": [
      "Running as user \"root\" and group \"root\". This could be dangerous.\n",
      "Capturing on 'wlp2s0'\n",
      "tshark: Invalid capture filter \"autostop packets:20\" for interface 'wlp2s0'.\n",
      "\n",
      "That string isn't a valid capture filter (can't parse filter expression: syntax error).\n",
      "See the User's Guide for a description of the capture filter syntax.\n",
      "0 packets captured\n",
      "\u001b[0m"
     ]
    }
   ],
   "source": [
    "!tshark autostop packets:20\n"
   ]
  },
  {
   "cell_type": "markdown",
   "metadata": {},
   "source": [
    "# sharkd"
   ]
  },
  {
   "cell_type": "markdown",
   "metadata": {},
   "source": [
    "# Scapy\n",
    "\n",
    "### Install"
   ]
  },
  {
   "cell_type": "code",
   "execution_count": 3,
   "metadata": {},
   "outputs": [
    {
     "name": "stdout",
     "output_type": "stream",
     "text": [
      "Requirement already satisfied: scapy in /usr/local/lib/python3.9/dist-packages (2.4.5)\n"
     ]
    }
   ],
   "source": [
    "!pip3 install scapy"
   ]
  },
  {
   "cell_type": "markdown",
   "metadata": {},
   "source": [
    "## Basics"
   ]
  },
  {
   "cell_type": "code",
   "execution_count": 4,
   "metadata": {},
   "outputs": [
    {
     "name": "stdout",
     "output_type": "stream",
     "text": [
      "###[ IP ]### \n",
      "  version   = 4\n",
      "  ihl       = None\n",
      "  tos       = 0x0\n",
      "  len       = None\n",
      "  id        = 1\n",
      "  flags     = \n",
      "  frag      = 0\n",
      "  ttl       = 64\n",
      "  proto     = hopopt\n",
      "  chksum    = None\n",
      "  src       = 127.0.0.1\n",
      "  dst       = 127.0.0.1\n",
      "  \\options   \\\n",
      "\n"
     ]
    }
   ],
   "source": [
    "from scapy.all import IP\n",
    "\n",
    "# create a basic IP-Packet\n",
    "IP().show()"
   ]
  },
  {
   "cell_type": "markdown",
   "metadata": {},
   "source": [
    "### Monitoring\n",
    "#### a simple network scanner"
   ]
  },
  {
   "cell_type": "code",
   "execution_count": 12,
   "metadata": {},
   "outputs": [
    {
     "name": "stdout",
     "output_type": "stream",
     "text": [
      "1: lo: <LOOPBACK,UP,LOWER_UP> mtu 65536 qdisc noqueue state UNKNOWN group default qlen 1000\n",
      "    link/loopback 00:00:00:00:00:00 brd 00:00:00:00:00:00\n",
      "    inet 127.0.0.1/8 scope host lo\n",
      "       valid_lft forever preferred_lft forever\n",
      "    inet6 ::1/128 scope host \n",
      "       valid_lft forever preferred_lft forever\n",
      "2: wlp2s0: <BROADCAST,MULTICAST,UP,LOWER_UP> mtu 1500 qdisc fq_codel state UP group default qlen 1000\n",
      "    link/ether c4:8e:8f:f3:9b:a7 brd ff:ff:ff:ff:ff:ff\n",
      "    inet 192.168.178.22/24 brd 192.168.178.255 scope global dynamic noprefixroute wlp2s0\n",
      "       valid_lft 860978sec preferred_lft 860978sec\n",
      "    inet6 2001:4dd3:8f2a:0:8c55:12e8:cf1a:ffbb/64 scope global temporary dynamic \n",
      "       valid_lft 6937sec preferred_lft 3337sec\n",
      "    inet6 2001:4dd3:8f2a:0:2a1d:3830:67ba:c18e/64 scope global dynamic mngtmpaddr noprefixroute \n",
      "       valid_lft 6937sec preferred_lft 3337sec\n",
      "    inet6 fe80::470:6b4c:4354:bc76/64 scope link noprefixroute \n",
      "       valid_lft forever preferred_lft forever\n"
     ]
    }
   ],
   "source": [
    "!ip address"
   ]
  },
  {
   "cell_type": "code",
   "execution_count": 5,
   "metadata": {},
   "outputs": [
    {
     "name": "stdout",
     "output_type": "stream",
     "text": [
      "root\n"
     ]
    }
   ],
   "source": [
    "# Are you root?\n",
    "# Make sure you have elevated privileges for the next step\n",
    "!whoami"
   ]
  },
  {
   "cell_type": "code",
   "execution_count": 6,
   "metadata": {},
   "outputs": [
    {
     "name": "stdout",
     "output_type": "stream",
     "text": [
      "Begin emission:\n",
      "Finished sending 256 packets.\n",
      "*******..............\n",
      "Received 21 packets, got 7 answers, remaining 249 packets\n",
      "===== Query Answer =====\n",
      "QueryAnswer(query=<Ether  dst=ff:ff:ff:ff:ff:ff type=ARP |<ARP  pdst=192.168.178.1 |>>, answer=<Ether  dst=c4:8e:8f:f3:9b:a7 src=3c:37:12:3b:b4:a6 type=ARP |<ARP  hwtype=0x1 ptype=IPv4 hwlen=6 plen=4 op=is-at hwsrc=3c:37:12:3b:b4:a6 psrc=192.168.178.1 hwdst=c4:8e:8f:f3:9b:a7 pdst=192.168.178.22 |>>)\n",
      "===== Devices =====\n"
     ]
    },
    {
     "data": {
      "text/plain": [
       "{'192.168.178.1': '3c:37:12:3b:b4:a6',\n",
       " '192.168.178.20': '60:45:cb:9a:3a:bd',\n",
       " '192.168.178.29': '00:f6:20:80:9c:75',\n",
       " '192.168.178.38': '34:ab:95:1c:00:d3',\n",
       " '192.168.178.39': 'c4:5b:be:e4:47:eb',\n",
       " '192.168.178.40': '18:69:d8:c9:1d:0e',\n",
       " '192.168.178.36': 'c8:c9:a3:cb:34:54'}"
      ]
     },
     "execution_count": 6,
     "metadata": {},
     "output_type": "execute_result"
    }
   ],
   "source": [
    "# src: https://www.thepythoncode.com/article/building-networks-scanner-using-scapy\n",
    "from scapy.all import ARP, Ether, srp\n",
    "# set target IP range\n",
    "target = \"192.168.178.1/24\"\n",
    "# create ARP (Address Resolution protocol) packet\n",
    "arp = ARP(pdst=target)\n",
    "ether = Ether(dst=\"ff:ff:ff:ff:ff:ff\")\n",
    "packet = ether/arp\n",
    "\n",
    "# raw socket operations require elevated privileges\n",
    "result = srp(packet, timeout=10) # => Tuple (answered, unanswered)\n",
    "\n",
    "print(\"===== Query Answer =====\")\n",
    "print(result[0][0])\n",
    "\n",
    "print(\"===== Devices =====\")\n",
    "{received.psrc: received.hwsrc for sent, received in result[0]}"
   ]
  },
  {
   "cell_type": "markdown",
   "metadata": {},
   "source": [
    "#### a simple network sniffer"
   ]
  },
  {
   "cell_type": "code",
   "execution_count": null,
   "metadata": {},
   "outputs": [],
   "source": [
    "# adapted from src: https://www.thepythoncode.com/article/dhcp-listener-using-scapy-in-python\n",
    "from scapy.all import sniff, Ether, DHCP\n",
    "import time\n",
    "\n",
    "global print_packet, target_mac, requested_ip, hostname, vendor_id\n",
    "\n",
    "def listen():\n",
    "    sniff(prn=print_packet, iface='wlp2s0')\n",
    "\n",
    "def print_packet(packet):\n",
    "    print(type(packet), packet)\n",
    "\n",
    "listen()"
   ]
  }
 ],
 "metadata": {
  "interpreter": {
   "hash": "ac9cc67fe132cc72f1af4a88bb61c5b3050a8a5a50e5b37d5765d51d1a0b7e8b"
  },
  "kernelspec": {
   "display_name": "Python 3 (ipykernel)",
   "language": "python",
   "name": "python3"
  },
  "language_info": {
   "codemirror_mode": {
    "name": "ipython",
    "version": 3
   },
   "file_extension": ".py",
   "mimetype": "text/x-python",
   "name": "python",
   "nbconvert_exporter": "python",
   "pygments_lexer": "ipython3",
   "version": "3.9.7"
  },
  "orig_nbformat": 4
 },
 "nbformat": 4,
 "nbformat_minor": 2
}
