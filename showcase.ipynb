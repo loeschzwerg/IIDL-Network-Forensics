{
 "cells": [
  {
   "cell_type": "markdown",
   "metadata": {},
   "source": [
    "# Scapy\n",
    "\n",
    "### Install"
   ]
  },
  {
   "cell_type": "code",
   "execution_count": 1,
   "metadata": {},
   "outputs": [
    {
     "name": "stdout",
     "output_type": "stream",
     "text": [
      "Collecting scapy\n",
      "  Downloading scapy-2.4.5.tar.gz (1.1 MB)\n",
      "\u001b[K     |████████████████████████████████| 1.1 MB 3.2 MB/s eta 0:00:01\n",
      "\u001b[?25hBuilding wheels for collected packages: scapy\n",
      "  Building wheel for scapy (setup.py) ... \u001b[?25ldone\n",
      "\u001b[?25h  Created wheel for scapy: filename=scapy-2.4.5-py2.py3-none-any.whl size=1261545 sha256=f80a7c0419449ad51c3cf850f9ad6f83ac1b4657ef6660e9c4781177e1936996\n",
      "  Stored in directory: /home/tn/.cache/pip/wheels/c8/9b/2f/012f0dbaf869afac8be52d4423f34eaa0b6c5c2d1292e40ebd\n",
      "Successfully built scapy\n",
      "Installing collected packages: scapy\n",
      "Successfully installed scapy-2.4.5\n"
     ]
    }
   ],
   "source": [
    "!pip install scapy"
   ]
  },
  {
   "cell_type": "markdown",
   "metadata": {},
   "source": [
    "### Basics"
   ]
  },
  {
   "cell_type": "code",
   "execution_count": 14,
   "metadata": {},
   "outputs": [
    {
     "name": "stdout",
     "output_type": "stream",
     "text": [
      "###[ IP ]### \n",
      "  version   = 4\n",
      "  ihl       = None\n",
      "  tos       = 0x0\n",
      "  len       = None\n",
      "  id        = 1\n",
      "  flags     = \n",
      "  frag      = 0\n",
      "  ttl       = 64\n",
      "  proto     = hopopt\n",
      "  chksum    = None\n",
      "  src       = 127.0.0.1\n",
      "  dst       = 127.0.0.1\n",
      "  \\options   \\\n",
      "\n"
     ]
    }
   ],
   "source": [
    "from scapy.all import *\n",
    "\n",
    "# create a basic IP-Packet\n",
    "IP().show()"
   ]
  },
  {
   "cell_type": "markdown",
   "metadata": {},
   "source": [
    "#### simple network scanner"
   ]
  },
  {
   "cell_type": "code",
   "execution_count": 15,
   "metadata": {},
   "outputs": [
    {
     "name": "stdout",
     "output_type": "stream",
     "text": [
      "1: lo: <LOOPBACK,UP,LOWER_UP> mtu 65536 qdisc noqueue state UNKNOWN group default qlen 1000\n",
      "    link/loopback 00:00:00:00:00:00 brd 00:00:00:00:00:00\n",
      "    inet 127.0.0.1/8 scope host lo\n",
      "       valid_lft forever preferred_lft forever\n",
      "    inet6 ::1/128 scope host \n",
      "       valid_lft forever preferred_lft forever\n",
      "2: wlp2s0: <BROADCAST,MULTICAST,UP,LOWER_UP> mtu 1500 qdisc fq_codel state UP group default qlen 1000\n",
      "    link/ether c4:8e:8f:f3:9b:a7 brd ff:ff:ff:ff:ff:ff\n",
      "    inet 192.168.178.22/24 brd 192.168.178.255 scope global dynamic noprefixroute wlp2s0\n",
      "       valid_lft 861500sec preferred_lft 861500sec\n",
      "    inet6 2001:4dd6:daa9:0:b453:1252:c7cf:e802/64 scope global temporary dynamic \n",
      "       valid_lft 6827sec preferred_lft 3227sec\n",
      "    inet6 2001:4dd6:daa9:0:15da:fa06:9ada:62ef/64 scope global dynamic mngtmpaddr noprefixroute \n",
      "       valid_lft 6827sec preferred_lft 3227sec\n",
      "    inet6 fe80::470:6b4c:4354:bc76/64 scope link noprefixroute \n",
      "       valid_lft forever preferred_lft forever\n"
     ]
    }
   ],
   "source": [
    "!ip address"
   ]
  },
  {
   "cell_type": "code",
   "execution_count": 23,
   "metadata": {},
   "outputs": [
    {
     "ename": "PermissionError",
     "evalue": "[Errno 1] Operation not permitted",
     "output_type": "error",
     "traceback": [
      "\u001b[0;31m---------------------------------------------------------------------------\u001b[0m",
      "\u001b[0;31mPermissionError\u001b[0m                           Traceback (most recent call last)",
      "\u001b[1;32m/home/tn/git/master/IIDL-Network-Forensics/showcase.ipynb Cell 7'\u001b[0m in \u001b[0;36m<cell line: 10>\u001b[0;34m()\u001b[0m\n\u001b[1;32m      <a href='vscode-notebook-cell:/home/tn/git/master/IIDL-Network-Forensics/showcase.ipynb#ch0000005?line=6'>7</a>\u001b[0m packet \u001b[39m=\u001b[39m ether\u001b[39m/\u001b[39marp\n\u001b[1;32m      <a href='vscode-notebook-cell:/home/tn/git/master/IIDL-Network-Forensics/showcase.ipynb#ch0000005?line=8'>9</a>\u001b[0m \u001b[39m# raw socket operations require elevated privileges\u001b[39;00m\n\u001b[0;32m---> <a href='vscode-notebook-cell:/home/tn/git/master/IIDL-Network-Forensics/showcase.ipynb#ch0000005?line=9'>10</a>\u001b[0m result \u001b[39m=\u001b[39m srp(packet, timeout\u001b[39m=\u001b[39;49m\u001b[39m30\u001b[39;49m)\n",
      "File \u001b[0;32m~/.local/lib/python3.9/site-packages/scapy/sendrecv.py:675\u001b[0m, in \u001b[0;36msrp\u001b[0;34m(x, promisc, iface, iface_hint, filter, nofilter, type, *args, **kargs)\u001b[0m\n\u001b[1;32m    <a href='file:///home/tn/.local/lib/python3.9/site-packages/scapy/sendrecv.py?line=672'>673</a>\u001b[0m     iface \u001b[39m=\u001b[39m conf\u001b[39m.\u001b[39mroute\u001b[39m.\u001b[39mroute(iface_hint)[\u001b[39m0\u001b[39m]\n\u001b[1;32m    <a href='file:///home/tn/.local/lib/python3.9/site-packages/scapy/sendrecv.py?line=673'>674</a>\u001b[0m iface \u001b[39m=\u001b[39m resolve_iface(iface \u001b[39mor\u001b[39;00m conf\u001b[39m.\u001b[39miface)\n\u001b[0;32m--> <a href='file:///home/tn/.local/lib/python3.9/site-packages/scapy/sendrecv.py?line=674'>675</a>\u001b[0m s \u001b[39m=\u001b[39m iface\u001b[39m.\u001b[39;49ml2socket()(promisc\u001b[39m=\u001b[39;49mpromisc, iface\u001b[39m=\u001b[39;49miface,\n\u001b[1;32m    <a href='file:///home/tn/.local/lib/python3.9/site-packages/scapy/sendrecv.py?line=675'>676</a>\u001b[0m                      \u001b[39mfilter\u001b[39;49m\u001b[39m=\u001b[39;49m\u001b[39mfilter\u001b[39;49m, nofilter\u001b[39m=\u001b[39;49mnofilter, \u001b[39mtype\u001b[39;49m\u001b[39m=\u001b[39;49m\u001b[39mtype\u001b[39;49m)\n\u001b[1;32m    <a href='file:///home/tn/.local/lib/python3.9/site-packages/scapy/sendrecv.py?line=676'>677</a>\u001b[0m result \u001b[39m=\u001b[39m sndrcv(s, x, \u001b[39m*\u001b[39margs, \u001b[39m*\u001b[39m\u001b[39m*\u001b[39mkargs)\n\u001b[1;32m    <a href='file:///home/tn/.local/lib/python3.9/site-packages/scapy/sendrecv.py?line=677'>678</a>\u001b[0m s\u001b[39m.\u001b[39mclose()\n",
      "File \u001b[0;32m~/.local/lib/python3.9/site-packages/scapy/arch/linux.py:486\u001b[0m, in \u001b[0;36mL2Socket.__init__\u001b[0;34m(self, iface, type, promisc, filter, nofilter, monitor)\u001b[0m\n\u001b[1;32m    <a href='file:///home/tn/.local/lib/python3.9/site-packages/scapy/arch/linux.py?line=481'>482</a>\u001b[0m \u001b[39mif\u001b[39;00m monitor \u001b[39mis\u001b[39;00m \u001b[39mnot\u001b[39;00m \u001b[39mNone\u001b[39;00m:\n\u001b[1;32m    <a href='file:///home/tn/.local/lib/python3.9/site-packages/scapy/arch/linux.py?line=482'>483</a>\u001b[0m     log_runtime\u001b[39m.\u001b[39minfo(\n\u001b[1;32m    <a href='file:///home/tn/.local/lib/python3.9/site-packages/scapy/arch/linux.py?line=483'>484</a>\u001b[0m         \u001b[39m\"\u001b[39m\u001b[39mThe \u001b[39m\u001b[39m'\u001b[39m\u001b[39mmonitor\u001b[39m\u001b[39m'\u001b[39m\u001b[39m argument has no effect on native linux sockets.\u001b[39m\u001b[39m\"\u001b[39m\n\u001b[1;32m    <a href='file:///home/tn/.local/lib/python3.9/site-packages/scapy/arch/linux.py?line=484'>485</a>\u001b[0m     )\n\u001b[0;32m--> <a href='file:///home/tn/.local/lib/python3.9/site-packages/scapy/arch/linux.py?line=485'>486</a>\u001b[0m \u001b[39mself\u001b[39m\u001b[39m.\u001b[39mins \u001b[39m=\u001b[39m socket\u001b[39m.\u001b[39;49msocket(\n\u001b[1;32m    <a href='file:///home/tn/.local/lib/python3.9/site-packages/scapy/arch/linux.py?line=486'>487</a>\u001b[0m     socket\u001b[39m.\u001b[39;49mAF_PACKET, socket\u001b[39m.\u001b[39;49mSOCK_RAW, socket\u001b[39m.\u001b[39;49mhtons(\u001b[39mtype\u001b[39;49m))\n\u001b[1;32m    <a href='file:///home/tn/.local/lib/python3.9/site-packages/scapy/arch/linux.py?line=487'>488</a>\u001b[0m \u001b[39mself\u001b[39m\u001b[39m.\u001b[39mins\u001b[39m.\u001b[39msetsockopt(socket\u001b[39m.\u001b[39mSOL_SOCKET, socket\u001b[39m.\u001b[39mSO_RCVBUF, \u001b[39m0\u001b[39m)\n\u001b[1;32m    <a href='file:///home/tn/.local/lib/python3.9/site-packages/scapy/arch/linux.py?line=488'>489</a>\u001b[0m \u001b[39mif\u001b[39;00m \u001b[39mnot\u001b[39;00m nofilter:\n",
      "File \u001b[0;32m/usr/lib/python3.9/socket.py:232\u001b[0m, in \u001b[0;36msocket.__init__\u001b[0;34m(self, family, type, proto, fileno)\u001b[0m\n\u001b[1;32m    <a href='file:///usr/lib/python3.9/socket.py?line=229'>230</a>\u001b[0m     \u001b[39mif\u001b[39;00m proto \u001b[39m==\u001b[39m \u001b[39m-\u001b[39m\u001b[39m1\u001b[39m:\n\u001b[1;32m    <a href='file:///usr/lib/python3.9/socket.py?line=230'>231</a>\u001b[0m         proto \u001b[39m=\u001b[39m \u001b[39m0\u001b[39m\n\u001b[0;32m--> <a href='file:///usr/lib/python3.9/socket.py?line=231'>232</a>\u001b[0m _socket\u001b[39m.\u001b[39;49msocket\u001b[39m.\u001b[39;49m\u001b[39m__init__\u001b[39;49m(\u001b[39mself\u001b[39;49m, family, \u001b[39mtype\u001b[39;49m, proto, fileno)\n\u001b[1;32m    <a href='file:///usr/lib/python3.9/socket.py?line=232'>233</a>\u001b[0m \u001b[39mself\u001b[39m\u001b[39m.\u001b[39m_io_refs \u001b[39m=\u001b[39m \u001b[39m0\u001b[39m\n\u001b[1;32m    <a href='file:///usr/lib/python3.9/socket.py?line=233'>234</a>\u001b[0m \u001b[39mself\u001b[39m\u001b[39m.\u001b[39m_closed \u001b[39m=\u001b[39m \u001b[39mFalse\u001b[39;00m\n",
      "\u001b[0;31mPermissionError\u001b[0m: [Errno 1] Operation not permitted"
     ]
    }
   ],
   "source": [
    "from scapy.all import ARP, Ether, srp\n",
    "# set target IP range\n",
    "target = \"192.168.178.1/24\"\n",
    "# create ARP (Address Resolution protocol) packet\n",
    "arp = ARP(pdst=target)\n",
    "ether = Ether(dst=\"ff:ff:ff:ff:ff:ff\")\n",
    "packet = ether/arp\n",
    "\n",
    "# raw socket operations require elevated privileges\n",
    "result = srp(packet, timeout=30)"
   ]
  }
 ],
 "metadata": {
  "interpreter": {
   "hash": "ac9cc67fe132cc72f1af4a88bb61c5b3050a8a5a50e5b37d5765d51d1a0b7e8b"
  },
  "kernelspec": {
   "display_name": "Python 3.10.4 64-bit",
   "language": "python",
   "name": "python3"
  },
  "language_info": {
   "codemirror_mode": {
    "name": "ipython",
    "version": 3
   },
   "file_extension": ".py",
   "mimetype": "text/x-python",
   "name": "python",
   "nbconvert_exporter": "python",
   "pygments_lexer": "ipython3",
   "version": "3.9.7"
  },
  "orig_nbformat": 4
 },
 "nbformat": 4,
 "nbformat_minor": 2
}
